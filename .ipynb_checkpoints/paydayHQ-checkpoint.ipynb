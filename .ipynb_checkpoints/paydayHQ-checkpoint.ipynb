{
 "cells": [
  {
   "cell_type": "code",
   "execution_count": null,
   "id": "ebf3c5d5",
   "metadata": {},
   "outputs": [],
   "source": [
    "import pandas as pd"
   ]
  },
  {
   "cell_type": "code",
   "execution_count": null,
   "id": "c0aade35",
   "metadata": {},
   "outputs": [],
   "source": [
    "customers_data = pd.read_csv('data_sets/customers.csv')\n",
    "customers_data"
   ]
  },
  {
   "cell_type": "code",
   "execution_count": null,
   "id": "51f865a8",
   "metadata": {},
   "outputs": [],
   "source": [
    "merchants_data = pd.read_csv('data_sets/merchants.csv')\n",
    "merchants_data"
   ]
  },
  {
   "cell_type": "code",
   "execution_count": null,
   "id": "7d9aa3b4",
   "metadata": {},
   "outputs": [],
   "source": [
    "terminals_data = pd.read_csv('data_sets/terminals.csv')\n",
    "terminals_data"
   ]
  },
  {
   "cell_type": "code",
   "execution_count": null,
   "id": "09a11667",
   "metadata": {},
   "outputs": [],
   "source": [
    "transactions_test_data = pd.read_csv('data_sets/transactions_test.csv')\n",
    "transactions_test_data"
   ]
  },
  {
   "cell_type": "code",
   "execution_count": null,
   "id": "2796a736",
   "metadata": {},
   "outputs": [],
   "source": [
    "transactions_train_data = pd.read_csv('data_sets/transactions_train.csv')\n",
    "transactions_train_data"
   ]
  }
 ],
 "metadata": {
  "kernelspec": {
   "display_name": "Python 3 (ipykernel)",
   "language": "python",
   "name": "python3"
  },
  "language_info": {
   "codemirror_mode": {
    "name": "ipython",
    "version": 3
   },
   "file_extension": ".py",
   "mimetype": "text/x-python",
   "name": "python",
   "nbconvert_exporter": "python",
   "pygments_lexer": "ipython3",
   "version": "3.11.5"
  }
 },
 "nbformat": 4,
 "nbformat_minor": 5
}
